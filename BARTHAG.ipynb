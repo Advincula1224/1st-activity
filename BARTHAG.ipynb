{
  "nbformat": 4,
  "nbformat_minor": 0,
  "metadata": {
    "colab": {
      "provenance": [],
      "authorship_tag": "ABX9TyO554x2ToHNl2SeCVAD3dsH",
      "include_colab_link": true
    },
    "kernelspec": {
      "name": "python3",
      "display_name": "Python 3"
    },
    "language_info": {
      "name": "python"
    }
  },
  "cells": [
    {
      "cell_type": "markdown",
      "metadata": {
        "id": "view-in-github",
        "colab_type": "text"
      },
      "source": [
        "<a href=\"https://colab.research.google.com/github/Advincula1224/1st-activity/blob/main/BARTHAG.ipynb\" target=\"_parent\"><img src=\"https://colab.research.google.com/assets/colab-badge.svg\" alt=\"Open In Colab\"/></a>"
      ]
    },
    {
      "cell_type": "code",
      "execution_count": 5,
      "metadata": {
        "id": "ii7hmJgG3LWB"
      },
      "outputs": [],
      "source": [
        "import pandas as pd"
      ]
    },
    {
      "cell_type": "code",
      "source": [
        "df=pd.read_csv('https://raw.githubusercontent.com/Advincula1224/1stactivity/main/cbb.csv')"
      ],
      "metadata": {
        "id": "roPmqAYW3ziw"
      },
      "execution_count": 6,
      "outputs": []
    },
    {
      "cell_type": "code",
      "source": [
        "df.head()"
      ],
      "metadata": {
        "colab": {
          "base_uri": "https://localhost:8080/",
          "height": 290
        },
        "id": "GalbEbDn4kzB",
        "outputId": "8d97b16a-55b7-4bdd-eb42-bb5056b0423d"
      },
      "execution_count": 7,
      "outputs": [
        {
          "output_type": "execute_result",
          "data": {
            "text/plain": [
              "             TEAM CONF   G   W  ADJOE  ADJDE  BARTHAG  EFG_O  EFG_D   TOR  \\\n",
              "0  North Carolina  ACC  40  33  123.3   94.9   0.9531   52.6   48.1  15.4   \n",
              "1       Wisconsin  B10  40  36  129.1   93.6   0.9758   54.8   47.7  12.4   \n",
              "2        Michigan  B10  40  33  114.4   90.4   0.9375   53.9   47.7  14.0   \n",
              "3      Texas Tech  B12  38  31  115.2   85.2   0.9696   53.5   43.0  17.7   \n",
              "4         Gonzaga  WCC  39  37  117.8   86.3   0.9728   56.6   41.1  16.2   \n",
              "\n",
              "   ...  FTRD  2P_O  2P_D  3P_O  3P_D  ADJ_T   WAB  POSTSEASON  SEED  YEAR  \n",
              "0  ...  30.4  53.9  44.6  32.7  36.2   71.7   8.6         2ND   1.0  2016  \n",
              "1  ...  22.4  54.8  44.7  36.5  37.5   59.3  11.3         2ND   1.0  2015  \n",
              "2  ...  30.0  54.7  46.8  35.2  33.2   65.9   6.9         2ND   3.0  2018  \n",
              "3  ...  36.6  52.8  41.9  36.5  29.7   67.5   7.0         2ND   3.0  2019  \n",
              "4  ...  26.9  56.3  40.0  38.2  29.0   71.5   7.7         2ND   1.0  2017  \n",
              "\n",
              "[5 rows x 24 columns]"
            ],
            "text/html": [
              "\n",
              "  <div id=\"df-9f71934b-17b8-4157-8497-4ee7d210c66e\" class=\"colab-df-container\">\n",
              "    <div>\n",
              "<style scoped>\n",
              "    .dataframe tbody tr th:only-of-type {\n",
              "        vertical-align: middle;\n",
              "    }\n",
              "\n",
              "    .dataframe tbody tr th {\n",
              "        vertical-align: top;\n",
              "    }\n",
              "\n",
              "    .dataframe thead th {\n",
              "        text-align: right;\n",
              "    }\n",
              "</style>\n",
              "<table border=\"1\" class=\"dataframe\">\n",
              "  <thead>\n",
              "    <tr style=\"text-align: right;\">\n",
              "      <th></th>\n",
              "      <th>TEAM</th>\n",
              "      <th>CONF</th>\n",
              "      <th>G</th>\n",
              "      <th>W</th>\n",
              "      <th>ADJOE</th>\n",
              "      <th>ADJDE</th>\n",
              "      <th>BARTHAG</th>\n",
              "      <th>EFG_O</th>\n",
              "      <th>EFG_D</th>\n",
              "      <th>TOR</th>\n",
              "      <th>...</th>\n",
              "      <th>FTRD</th>\n",
              "      <th>2P_O</th>\n",
              "      <th>2P_D</th>\n",
              "      <th>3P_O</th>\n",
              "      <th>3P_D</th>\n",
              "      <th>ADJ_T</th>\n",
              "      <th>WAB</th>\n",
              "      <th>POSTSEASON</th>\n",
              "      <th>SEED</th>\n",
              "      <th>YEAR</th>\n",
              "    </tr>\n",
              "  </thead>\n",
              "  <tbody>\n",
              "    <tr>\n",
              "      <th>0</th>\n",
              "      <td>North Carolina</td>\n",
              "      <td>ACC</td>\n",
              "      <td>40</td>\n",
              "      <td>33</td>\n",
              "      <td>123.3</td>\n",
              "      <td>94.9</td>\n",
              "      <td>0.9531</td>\n",
              "      <td>52.6</td>\n",
              "      <td>48.1</td>\n",
              "      <td>15.4</td>\n",
              "      <td>...</td>\n",
              "      <td>30.4</td>\n",
              "      <td>53.9</td>\n",
              "      <td>44.6</td>\n",
              "      <td>32.7</td>\n",
              "      <td>36.2</td>\n",
              "      <td>71.7</td>\n",
              "      <td>8.6</td>\n",
              "      <td>2ND</td>\n",
              "      <td>1.0</td>\n",
              "      <td>2016</td>\n",
              "    </tr>\n",
              "    <tr>\n",
              "      <th>1</th>\n",
              "      <td>Wisconsin</td>\n",
              "      <td>B10</td>\n",
              "      <td>40</td>\n",
              "      <td>36</td>\n",
              "      <td>129.1</td>\n",
              "      <td>93.6</td>\n",
              "      <td>0.9758</td>\n",
              "      <td>54.8</td>\n",
              "      <td>47.7</td>\n",
              "      <td>12.4</td>\n",
              "      <td>...</td>\n",
              "      <td>22.4</td>\n",
              "      <td>54.8</td>\n",
              "      <td>44.7</td>\n",
              "      <td>36.5</td>\n",
              "      <td>37.5</td>\n",
              "      <td>59.3</td>\n",
              "      <td>11.3</td>\n",
              "      <td>2ND</td>\n",
              "      <td>1.0</td>\n",
              "      <td>2015</td>\n",
              "    </tr>\n",
              "    <tr>\n",
              "      <th>2</th>\n",
              "      <td>Michigan</td>\n",
              "      <td>B10</td>\n",
              "      <td>40</td>\n",
              "      <td>33</td>\n",
              "      <td>114.4</td>\n",
              "      <td>90.4</td>\n",
              "      <td>0.9375</td>\n",
              "      <td>53.9</td>\n",
              "      <td>47.7</td>\n",
              "      <td>14.0</td>\n",
              "      <td>...</td>\n",
              "      <td>30.0</td>\n",
              "      <td>54.7</td>\n",
              "      <td>46.8</td>\n",
              "      <td>35.2</td>\n",
              "      <td>33.2</td>\n",
              "      <td>65.9</td>\n",
              "      <td>6.9</td>\n",
              "      <td>2ND</td>\n",
              "      <td>3.0</td>\n",
              "      <td>2018</td>\n",
              "    </tr>\n",
              "    <tr>\n",
              "      <th>3</th>\n",
              "      <td>Texas Tech</td>\n",
              "      <td>B12</td>\n",
              "      <td>38</td>\n",
              "      <td>31</td>\n",
              "      <td>115.2</td>\n",
              "      <td>85.2</td>\n",
              "      <td>0.9696</td>\n",
              "      <td>53.5</td>\n",
              "      <td>43.0</td>\n",
              "      <td>17.7</td>\n",
              "      <td>...</td>\n",
              "      <td>36.6</td>\n",
              "      <td>52.8</td>\n",
              "      <td>41.9</td>\n",
              "      <td>36.5</td>\n",
              "      <td>29.7</td>\n",
              "      <td>67.5</td>\n",
              "      <td>7.0</td>\n",
              "      <td>2ND</td>\n",
              "      <td>3.0</td>\n",
              "      <td>2019</td>\n",
              "    </tr>\n",
              "    <tr>\n",
              "      <th>4</th>\n",
              "      <td>Gonzaga</td>\n",
              "      <td>WCC</td>\n",
              "      <td>39</td>\n",
              "      <td>37</td>\n",
              "      <td>117.8</td>\n",
              "      <td>86.3</td>\n",
              "      <td>0.9728</td>\n",
              "      <td>56.6</td>\n",
              "      <td>41.1</td>\n",
              "      <td>16.2</td>\n",
              "      <td>...</td>\n",
              "      <td>26.9</td>\n",
              "      <td>56.3</td>\n",
              "      <td>40.0</td>\n",
              "      <td>38.2</td>\n",
              "      <td>29.0</td>\n",
              "      <td>71.5</td>\n",
              "      <td>7.7</td>\n",
              "      <td>2ND</td>\n",
              "      <td>1.0</td>\n",
              "      <td>2017</td>\n",
              "    </tr>\n",
              "  </tbody>\n",
              "</table>\n",
              "<p>5 rows × 24 columns</p>\n",
              "</div>\n",
              "    <div class=\"colab-df-buttons\">\n",
              "\n",
              "  <div class=\"colab-df-container\">\n",
              "    <button class=\"colab-df-convert\" onclick=\"convertToInteractive('df-9f71934b-17b8-4157-8497-4ee7d210c66e')\"\n",
              "            title=\"Convert this dataframe to an interactive table.\"\n",
              "            style=\"display:none;\">\n",
              "\n",
              "  <svg xmlns=\"http://www.w3.org/2000/svg\" height=\"24px\" viewBox=\"0 -960 960 960\">\n",
              "    <path d=\"M120-120v-720h720v720H120Zm60-500h600v-160H180v160Zm220 220h160v-160H400v160Zm0 220h160v-160H400v160ZM180-400h160v-160H180v160Zm440 0h160v-160H620v160ZM180-180h160v-160H180v160Zm440 0h160v-160H620v160Z\"/>\n",
              "  </svg>\n",
              "    </button>\n",
              "\n",
              "  <style>\n",
              "    .colab-df-container {\n",
              "      display:flex;\n",
              "      gap: 12px;\n",
              "    }\n",
              "\n",
              "    .colab-df-convert {\n",
              "      background-color: #E8F0FE;\n",
              "      border: none;\n",
              "      border-radius: 50%;\n",
              "      cursor: pointer;\n",
              "      display: none;\n",
              "      fill: #1967D2;\n",
              "      height: 32px;\n",
              "      padding: 0 0 0 0;\n",
              "      width: 32px;\n",
              "    }\n",
              "\n",
              "    .colab-df-convert:hover {\n",
              "      background-color: #E2EBFA;\n",
              "      box-shadow: 0px 1px 2px rgba(60, 64, 67, 0.3), 0px 1px 3px 1px rgba(60, 64, 67, 0.15);\n",
              "      fill: #174EA6;\n",
              "    }\n",
              "\n",
              "    .colab-df-buttons div {\n",
              "      margin-bottom: 4px;\n",
              "    }\n",
              "\n",
              "    [theme=dark] .colab-df-convert {\n",
              "      background-color: #3B4455;\n",
              "      fill: #D2E3FC;\n",
              "    }\n",
              "\n",
              "    [theme=dark] .colab-df-convert:hover {\n",
              "      background-color: #434B5C;\n",
              "      box-shadow: 0px 1px 3px 1px rgba(0, 0, 0, 0.15);\n",
              "      filter: drop-shadow(0px 1px 2px rgba(0, 0, 0, 0.3));\n",
              "      fill: #FFFFFF;\n",
              "    }\n",
              "  </style>\n",
              "\n",
              "    <script>\n",
              "      const buttonEl =\n",
              "        document.querySelector('#df-9f71934b-17b8-4157-8497-4ee7d210c66e button.colab-df-convert');\n",
              "      buttonEl.style.display =\n",
              "        google.colab.kernel.accessAllowed ? 'block' : 'none';\n",
              "\n",
              "      async function convertToInteractive(key) {\n",
              "        const element = document.querySelector('#df-9f71934b-17b8-4157-8497-4ee7d210c66e');\n",
              "        const dataTable =\n",
              "          await google.colab.kernel.invokeFunction('convertToInteractive',\n",
              "                                                    [key], {});\n",
              "        if (!dataTable) return;\n",
              "\n",
              "        const docLinkHtml = 'Like what you see? Visit the ' +\n",
              "          '<a target=\"_blank\" href=https://colab.research.google.com/notebooks/data_table.ipynb>data table notebook</a>'\n",
              "          + ' to learn more about interactive tables.';\n",
              "        element.innerHTML = '';\n",
              "        dataTable['output_type'] = 'display_data';\n",
              "        await google.colab.output.renderOutput(dataTable, element);\n",
              "        const docLink = document.createElement('div');\n",
              "        docLink.innerHTML = docLinkHtml;\n",
              "        element.appendChild(docLink);\n",
              "      }\n",
              "    </script>\n",
              "  </div>\n",
              "\n",
              "\n",
              "<div id=\"df-f3b301a4-0f48-4411-a649-81727136bf9b\">\n",
              "  <button class=\"colab-df-quickchart\" onclick=\"quickchart('df-f3b301a4-0f48-4411-a649-81727136bf9b')\"\n",
              "            title=\"Suggest charts\"\n",
              "            style=\"display:none;\">\n",
              "\n",
              "<svg xmlns=\"http://www.w3.org/2000/svg\" height=\"24px\"viewBox=\"0 0 24 24\"\n",
              "     width=\"24px\">\n",
              "    <g>\n",
              "        <path d=\"M19 3H5c-1.1 0-2 .9-2 2v14c0 1.1.9 2 2 2h14c1.1 0 2-.9 2-2V5c0-1.1-.9-2-2-2zM9 17H7v-7h2v7zm4 0h-2V7h2v10zm4 0h-2v-4h2v4z\"/>\n",
              "    </g>\n",
              "</svg>\n",
              "  </button>\n",
              "\n",
              "<style>\n",
              "  .colab-df-quickchart {\n",
              "      --bg-color: #E8F0FE;\n",
              "      --fill-color: #1967D2;\n",
              "      --hover-bg-color: #E2EBFA;\n",
              "      --hover-fill-color: #174EA6;\n",
              "      --disabled-fill-color: #AAA;\n",
              "      --disabled-bg-color: #DDD;\n",
              "  }\n",
              "\n",
              "  [theme=dark] .colab-df-quickchart {\n",
              "      --bg-color: #3B4455;\n",
              "      --fill-color: #D2E3FC;\n",
              "      --hover-bg-color: #434B5C;\n",
              "      --hover-fill-color: #FFFFFF;\n",
              "      --disabled-bg-color: #3B4455;\n",
              "      --disabled-fill-color: #666;\n",
              "  }\n",
              "\n",
              "  .colab-df-quickchart {\n",
              "    background-color: var(--bg-color);\n",
              "    border: none;\n",
              "    border-radius: 50%;\n",
              "    cursor: pointer;\n",
              "    display: none;\n",
              "    fill: var(--fill-color);\n",
              "    height: 32px;\n",
              "    padding: 0;\n",
              "    width: 32px;\n",
              "  }\n",
              "\n",
              "  .colab-df-quickchart:hover {\n",
              "    background-color: var(--hover-bg-color);\n",
              "    box-shadow: 0 1px 2px rgba(60, 64, 67, 0.3), 0 1px 3px 1px rgba(60, 64, 67, 0.15);\n",
              "    fill: var(--button-hover-fill-color);\n",
              "  }\n",
              "\n",
              "  .colab-df-quickchart-complete:disabled,\n",
              "  .colab-df-quickchart-complete:disabled:hover {\n",
              "    background-color: var(--disabled-bg-color);\n",
              "    fill: var(--disabled-fill-color);\n",
              "    box-shadow: none;\n",
              "  }\n",
              "\n",
              "  .colab-df-spinner {\n",
              "    border: 2px solid var(--fill-color);\n",
              "    border-color: transparent;\n",
              "    border-bottom-color: var(--fill-color);\n",
              "    animation:\n",
              "      spin 1s steps(1) infinite;\n",
              "  }\n",
              "\n",
              "  @keyframes spin {\n",
              "    0% {\n",
              "      border-color: transparent;\n",
              "      border-bottom-color: var(--fill-color);\n",
              "      border-left-color: var(--fill-color);\n",
              "    }\n",
              "    20% {\n",
              "      border-color: transparent;\n",
              "      border-left-color: var(--fill-color);\n",
              "      border-top-color: var(--fill-color);\n",
              "    }\n",
              "    30% {\n",
              "      border-color: transparent;\n",
              "      border-left-color: var(--fill-color);\n",
              "      border-top-color: var(--fill-color);\n",
              "      border-right-color: var(--fill-color);\n",
              "    }\n",
              "    40% {\n",
              "      border-color: transparent;\n",
              "      border-right-color: var(--fill-color);\n",
              "      border-top-color: var(--fill-color);\n",
              "    }\n",
              "    60% {\n",
              "      border-color: transparent;\n",
              "      border-right-color: var(--fill-color);\n",
              "    }\n",
              "    80% {\n",
              "      border-color: transparent;\n",
              "      border-right-color: var(--fill-color);\n",
              "      border-bottom-color: var(--fill-color);\n",
              "    }\n",
              "    90% {\n",
              "      border-color: transparent;\n",
              "      border-bottom-color: var(--fill-color);\n",
              "    }\n",
              "  }\n",
              "</style>\n",
              "\n",
              "  <script>\n",
              "    async function quickchart(key) {\n",
              "      const quickchartButtonEl =\n",
              "        document.querySelector('#' + key + ' button');\n",
              "      quickchartButtonEl.disabled = true;  // To prevent multiple clicks.\n",
              "      quickchartButtonEl.classList.add('colab-df-spinner');\n",
              "      try {\n",
              "        const charts = await google.colab.kernel.invokeFunction(\n",
              "            'suggestCharts', [key], {});\n",
              "      } catch (error) {\n",
              "        console.error('Error during call to suggestCharts:', error);\n",
              "      }\n",
              "      quickchartButtonEl.classList.remove('colab-df-spinner');\n",
              "      quickchartButtonEl.classList.add('colab-df-quickchart-complete');\n",
              "    }\n",
              "    (() => {\n",
              "      let quickchartButtonEl =\n",
              "        document.querySelector('#df-f3b301a4-0f48-4411-a649-81727136bf9b button');\n",
              "      quickchartButtonEl.style.display =\n",
              "        google.colab.kernel.accessAllowed ? 'block' : 'none';\n",
              "    })();\n",
              "  </script>\n",
              "</div>\n",
              "\n",
              "    </div>\n",
              "  </div>\n"
            ],
            "application/vnd.google.colaboratory.intrinsic+json": {
              "type": "dataframe",
              "variable_name": "df"
            }
          },
          "metadata": {},
          "execution_count": 7
        }
      ]
    },
    {
      "cell_type": "code",
      "source": [
        "df.duplicated().sum()"
      ],
      "metadata": {
        "colab": {
          "base_uri": "https://localhost:8080/"
        },
        "id": "gu5J76zk4t2R",
        "outputId": "bde098c3-4453-4b28-efa5-e105b92bde6c"
      },
      "execution_count": 8,
      "outputs": [
        {
          "output_type": "execute_result",
          "data": {
            "text/plain": [
              "0"
            ]
          },
          "metadata": {},
          "execution_count": 8
        }
      ]
    },
    {
      "cell_type": "code",
      "source": [
        "df.drop_duplicates(inplace=True)"
      ],
      "metadata": {
        "id": "CcR98a5z5njT"
      },
      "execution_count": 16,
      "outputs": []
    },
    {
      "cell_type": "code",
      "source": [
        "df.info()"
      ],
      "metadata": {
        "colab": {
          "base_uri": "https://localhost:8080/"
        },
        "id": "2F3Nl8wO5wbt",
        "outputId": "8ad5a7a7-868b-48b7-8e0d-d718c7d9cbf8"
      },
      "execution_count": 17,
      "outputs": [
        {
          "output_type": "stream",
          "name": "stdout",
          "text": [
            "<class 'pandas.core.frame.DataFrame'>\n",
            "RangeIndex: 3523 entries, 0 to 3522\n",
            "Data columns (total 24 columns):\n",
            " #   Column      Non-Null Count  Dtype  \n",
            "---  ------      --------------  -----  \n",
            " 0   TEAM        3523 non-null   object \n",
            " 1   CONF        3523 non-null   object \n",
            " 2   G           3523 non-null   int64  \n",
            " 3   W           3523 non-null   int64  \n",
            " 4   ADJOE       3523 non-null   float64\n",
            " 5   ADJDE       3523 non-null   float64\n",
            " 6   BARTHAG     3523 non-null   float64\n",
            " 7   EFG_O       3523 non-null   float64\n",
            " 8   EFG_D       3523 non-null   float64\n",
            " 9   TOR         3523 non-null   float64\n",
            " 10  TORD        3523 non-null   float64\n",
            " 11  ORB         3523 non-null   float64\n",
            " 12  DRB         3523 non-null   float64\n",
            " 13  FTR         3523 non-null   float64\n",
            " 14  FTRD        3523 non-null   float64\n",
            " 15  2P_O        3523 non-null   float64\n",
            " 16  2P_D        3523 non-null   float64\n",
            " 17  3P_O        3523 non-null   float64\n",
            " 18  3P_D        3523 non-null   float64\n",
            " 19  ADJ_T       3523 non-null   float64\n",
            " 20  WAB         3523 non-null   float64\n",
            " 21  POSTSEASON  680 non-null    object \n",
            " 22  SEED        680 non-null    float64\n",
            " 23  YEAR        3523 non-null   int64  \n",
            "dtypes: float64(18), int64(3), object(3)\n",
            "memory usage: 660.7+ KB\n"
          ]
        }
      ]
    },
    {
      "cell_type": "code",
      "source": [
        "df['ADJOE'] = pd.to_numeric(df['ADJOE'],errors='coerce' ). astype('Int64')"
      ],
      "metadata": {
        "id": "RSlUqkog7tTq"
      },
      "execution_count": 45,
      "outputs": []
    },
    {
      "cell_type": "code",
      "source": [
        "df['ADJOE'].info()"
      ],
      "metadata": {
        "colab": {
          "base_uri": "https://localhost:8080/"
        },
        "id": "hHgJwxNY-Nf1",
        "outputId": "cca96a61-44ca-447c-b84a-f3aac8b12d1d"
      },
      "execution_count": 46,
      "outputs": [
        {
          "output_type": "stream",
          "name": "stdout",
          "text": [
            "<class 'pandas.core.series.Series'>\n",
            "RangeIndex: 3523 entries, 0 to 3522\n",
            "Series name: ADJOE\n",
            "Non-Null Count  Dtype\n",
            "--------------  -----\n",
            "3523 non-null   Int64\n",
            "dtypes: Int64(1)\n",
            "memory usage: 31.1 KB\n"
          ]
        }
      ]
    },
    {
      "cell_type": "code",
      "source": [
        "print(df['ADJOE'])"
      ],
      "metadata": {
        "colab": {
          "base_uri": "https://localhost:8080/"
        },
        "id": "wlZNf2wg-Y7l",
        "outputId": "419de8db-082c-4659-8427-bdd4f2a69f8f"
      },
      "execution_count": 47,
      "outputs": [
        {
          "output_type": "stream",
          "name": "stdout",
          "text": [
            "0       123\n",
            "1       129\n",
            "2       114\n",
            "3       115\n",
            "4       117\n",
            "       ... \n",
            "3518    119\n",
            "3519    111\n",
            "3520    107\n",
            "3521    112\n",
            "3522    110\n",
            "Name: ADJOE, Length: 3523, dtype: Int64\n"
          ]
        }
      ]
    },
    {
      "cell_type": "code",
      "source": [
        "df['BARTHAG'] = pd.to_numeric(df['BARTHAG'],errors='coerce' ). astype('int64')"
      ],
      "metadata": {
        "id": "fqqByEfMBeX5"
      },
      "execution_count": 50,
      "outputs": []
    },
    {
      "cell_type": "code",
      "source": [
        "df['BARTHAG'].info()"
      ],
      "metadata": {
        "colab": {
          "base_uri": "https://localhost:8080/"
        },
        "id": "4WN5OMOACAuV",
        "outputId": "e8fe0ac0-dc8c-41d7-c67f-193370475b45"
      },
      "execution_count": 51,
      "outputs": [
        {
          "output_type": "stream",
          "name": "stdout",
          "text": [
            "<class 'pandas.core.series.Series'>\n",
            "RangeIndex: 3523 entries, 0 to 3522\n",
            "Series name: BARTHAG\n",
            "Non-Null Count  Dtype\n",
            "--------------  -----\n",
            "3523 non-null   int64\n",
            "dtypes: int64(1)\n",
            "memory usage: 27.6 KB\n"
          ]
        }
      ]
    },
    {
      "cell_type": "code",
      "source": [
        "print(df['BARTHAG'])"
      ],
      "metadata": {
        "colab": {
          "base_uri": "https://localhost:8080/"
        },
        "id": "H20BWfDTCGWK",
        "outputId": "5055b8f8-36f5-471d-c179-d9deb5199178"
      },
      "execution_count": 52,
      "outputs": [
        {
          "output_type": "stream",
          "name": "stdout",
          "text": [
            "0       0\n",
            "1       0\n",
            "2       0\n",
            "3       0\n",
            "4       0\n",
            "       ..\n",
            "3518    0\n",
            "3519    0\n",
            "3520    0\n",
            "3521    0\n",
            "3522    0\n",
            "Name: BARTHAG, Length: 3523, dtype: int64\n"
          ]
        }
      ]
    },
    {
      "cell_type": "code",
      "source": [
        "df['gap'] = df['ADJOE'] + df['BARTHAG']"
      ],
      "metadata": {
        "id": "XeeMT8j0ASso"
      },
      "execution_count": 59,
      "outputs": []
    },
    {
      "cell_type": "code",
      "source": [
        "df['gap']"
      ],
      "metadata": {
        "colab": {
          "base_uri": "https://localhost:8080/",
          "height": 458
        },
        "id": "P4tSLEiFFiE-",
        "outputId": "1c39d1be-e655-4550-b067-42ab0d6b2d92"
      },
      "execution_count": 61,
      "outputs": [
        {
          "output_type": "execute_result",
          "data": {
            "text/plain": [
              "0       123\n",
              "1       129\n",
              "2       114\n",
              "3       115\n",
              "4       117\n",
              "       ... \n",
              "3518    119\n",
              "3519    111\n",
              "3520    107\n",
              "3521    112\n",
              "3522    110\n",
              "Name: gap, Length: 3523, dtype: Int64"
            ],
            "text/html": [
              "<div>\n",
              "<style scoped>\n",
              "    .dataframe tbody tr th:only-of-type {\n",
              "        vertical-align: middle;\n",
              "    }\n",
              "\n",
              "    .dataframe tbody tr th {\n",
              "        vertical-align: top;\n",
              "    }\n",
              "\n",
              "    .dataframe thead th {\n",
              "        text-align: right;\n",
              "    }\n",
              "</style>\n",
              "<table border=\"1\" class=\"dataframe\">\n",
              "  <thead>\n",
              "    <tr style=\"text-align: right;\">\n",
              "      <th></th>\n",
              "      <th>gap</th>\n",
              "    </tr>\n",
              "  </thead>\n",
              "  <tbody>\n",
              "    <tr>\n",
              "      <th>0</th>\n",
              "      <td>123</td>\n",
              "    </tr>\n",
              "    <tr>\n",
              "      <th>1</th>\n",
              "      <td>129</td>\n",
              "    </tr>\n",
              "    <tr>\n",
              "      <th>2</th>\n",
              "      <td>114</td>\n",
              "    </tr>\n",
              "    <tr>\n",
              "      <th>3</th>\n",
              "      <td>115</td>\n",
              "    </tr>\n",
              "    <tr>\n",
              "      <th>4</th>\n",
              "      <td>117</td>\n",
              "    </tr>\n",
              "    <tr>\n",
              "      <th>...</th>\n",
              "      <td>...</td>\n",
              "    </tr>\n",
              "    <tr>\n",
              "      <th>3518</th>\n",
              "      <td>119</td>\n",
              "    </tr>\n",
              "    <tr>\n",
              "      <th>3519</th>\n",
              "      <td>111</td>\n",
              "    </tr>\n",
              "    <tr>\n",
              "      <th>3520</th>\n",
              "      <td>107</td>\n",
              "    </tr>\n",
              "    <tr>\n",
              "      <th>3521</th>\n",
              "      <td>112</td>\n",
              "    </tr>\n",
              "    <tr>\n",
              "      <th>3522</th>\n",
              "      <td>110</td>\n",
              "    </tr>\n",
              "  </tbody>\n",
              "</table>\n",
              "<p>3523 rows × 1 columns</p>\n",
              "</div><br><label><b>dtype:</b> Int64</label>"
            ]
          },
          "metadata": {},
          "execution_count": 61
        }
      ]
    }
  ]
}